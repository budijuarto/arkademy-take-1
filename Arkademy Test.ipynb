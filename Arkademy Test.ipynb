{
 "cells": [
  {
   "cell_type": "markdown",
   "metadata": {},
   "source": [
    "# Nomor 1"
   ]
  },
  {
   "cell_type": "code",
   "execution_count": 10,
   "metadata": {},
   "outputs": [
    {
     "name": "stdout",
     "output_type": "stream",
     "text": [
      "Name: Budi Juarto\n",
      "Age: 22\n",
      "Address: Jalan Pulau Sebaru 7 Blok L6 no 18, kebon jeruk, jakarta barat\n",
      "Hobbies: ['mentoring', 'reading', 'jogging']\n",
      "Married: no\n",
      "School: Gadjah Mada University\n",
      "Skills: ['python', 'Rapid miner', 'Tableau']\n"
     ]
    }
   ],
   "source": [
    "def personal_details():\n",
    "    name, age = \"Budi Juarto\", 22\n",
    "    address = \"Jalan Pulau Sebaru 7 Blok L6 no 18, kebon jeruk, jakarta barat\"\n",
    "    hobbies = [\"mentoring\",\"reading\",\"jogging\"]\n",
    "    is_married = \"no\"\n",
    "    school = \"Gadjah Mada University\"\n",
    "    skills = [\"python\", \"Rapid miner\", \"Tableau\"]\n",
    "    print(\"Name: {}\\nAge: {}\\nAddress: {}\\nHobbies: {}\\nMarried: {}\\nSchool: {}\\nSkills: {}\".format(name, age, address, hobbies,is_married,school, skills))\n",
    "personal_details()"
   ]
  },
  {
   "cell_type": "markdown",
   "metadata": {},
   "source": [
    "# Nomor 2"
   ]
  },
  {
   "cell_type": "code",
   "execution_count": null,
   "metadata": {},
   "outputs": [],
   "source": [
    "import re\n",
    "p= input(\"Masukan Password\")\n",
    "x = True\n",
    "while x:  \n",
    "    if (len(p)<8 or len(p)>12):\n",
    "        break\n",
    "    elif not re.search(\"[a-z]\",p):\n",
    "        break\n",
    "    elif not re.search(\"[0-9]\",p):\n",
    "        break\n",
    "    elif not re.search(\"[A-Z]\",p):\n",
    "        break\n",
    "    elif not re.search(\"[$#@]\",p):\n",
    "        break\n",
    "    elif re.search(\"\\s\",p):\n",
    "        break\n",
    "    else:\n",
    "        print(\"True\")\n",
    "        x=False\n",
    "        break\n",
    "\n",
    "if x:\n",
    "    print(\"False\")"
   ]
  },
  {
   "cell_type": "markdown",
   "metadata": {},
   "source": [
    "# Nomor 5"
   ]
  },
  {
   "cell_type": "code",
   "execution_count": null,
   "metadata": {},
   "outputs": [],
   "source": [
    "T=int(input())\n",
    "while(T>0):\n",
    "    T-=1\n",
    "    N=int(input())\n",
    "    print(int(N*(N-1)/2))"
   ]
  },
  {
   "cell_type": "code",
   "execution_count": null,
   "metadata": {},
   "outputs": [],
   "source": []
  }
 ],
 "metadata": {
  "kernelspec": {
   "display_name": "Python 3",
   "language": "python",
   "name": "python3"
  },
  "language_info": {
   "codemirror_mode": {
    "name": "ipython",
    "version": 3
   },
   "file_extension": ".py",
   "mimetype": "text/x-python",
   "name": "python",
   "nbconvert_exporter": "python",
   "pygments_lexer": "ipython3",
   "version": "3.7.1"
  }
 },
 "nbformat": 4,
 "nbformat_minor": 2
}
